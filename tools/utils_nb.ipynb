{
 "cells": [
  {
   "cell_type": "markdown",
   "metadata": {},
   "source": [
    "# Imports"
   ]
  },
  {
   "cell_type": "code",
   "execution_count": null,
   "metadata": {},
   "outputs": [],
   "source": [
    "from utils import BasicUtils, VidProc\n",
    "from moviepy.editor import VideoFileClip"
   ]
  },
  {
   "cell_type": "markdown",
   "metadata": {},
   "source": [
    "# Save video frame"
   ]
  },
  {
   "cell_type": "code",
   "execution_count": null,
   "metadata": {},
   "outputs": [],
   "source": [
    "video_fpath = '../videos/road_40_rinatia_night_1280x720.mp4'\n",
    "out_image_fpath = '../images/doc/night_video_frame_220.jpg'\n",
    "BasicUtils.save_frame(video_fpath, 220, out_image_fpath)"
   ]
  },
  {
   "cell_type": "markdown",
   "metadata": {},
   "source": [
    "# Show choosen coordinates on image"
   ]
  },
  {
   "cell_type": "code",
   "execution_count": null,
   "metadata": {},
   "outputs": [
    {
     "name": "stdout",
     "output_type": "stream",
     "text": [
      "get_clip_frame=> input:0, res:0.0\n",
      "Coordinates: X=525, Y=212\n",
      "Coordinates: X=452, Y=431\n",
      "Coordinates: X=944, Y=270\n",
      "Coordinates: X=799, Y=486\n"
     ]
    }
   ],
   "source": [
    "input_video = '../videos/daylight_video_1280x720.mp4'\n",
    "vclip_1 = VideoFileClip(input_video)\n",
    "v1_f1 = VidProc.get_clip_frame(vclip_1, 0)\n",
    "BasicUtils.display_image_with_coordinates(v1_f1)"
   ]
  },
  {
   "cell_type": "markdown",
   "metadata": {},
   "source": [
    "# Resize video"
   ]
  },
  {
   "cell_type": "code",
   "execution_count": null,
   "metadata": {},
   "outputs": [],
   "source": [
    "input_video_path = '../videos/VID_20240902_113950-00.05.51.320-00.08.07.359.mp4'\n",
    "output_video_path = '../videos/VID_20240902_113950-00.05.51.320-00.08.07.359_1280x720_v1.mp4'\n",
    "new_width = 1280\n",
    "new_height = 720\n",
    "\n",
    "VidProc.resize_video(input_video_path, output_video_path, new_width, new_height)"
   ]
  }
 ],
 "metadata": {
  "language_info": {
   "name": "python"
  }
 },
 "nbformat": 4,
 "nbformat_minor": 2
}
